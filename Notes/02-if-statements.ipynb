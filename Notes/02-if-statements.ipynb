{
 "cells": [
  {
   "cell_type": "code",
   "execution_count": 6,
   "metadata": {},
   "outputs": [
    {
     "name": "stdout",
     "output_type": "stream",
     "text": [
      "Cool.\n"
     ]
    }
   ],
   "source": [
    "# if\n",
    "if 1+1==2 :\n",
    "    print('Cool.')\n",
    "else :\n",
    "    print('What?')"
   ]
  },
  {
   "cell_type": "code",
   "execution_count": 8,
   "metadata": {},
   "outputs": [
    {
     "name": "stdout",
     "output_type": "stream",
     "text": [
      "False\n"
     ]
    }
   ],
   "source": [
    "# string equality is case sensitive\n",
    "name = 'tracy'\n",
    "print(name.upper() == name.title())"
   ]
  },
  {
   "cell_type": "code",
   "execution_count": 14,
   "metadata": {},
   "outputs": [
    {
     "name": "stdout",
     "output_type": "stream",
     "text": [
      "The ticket cost $5.\n"
     ]
    }
   ],
   "source": [
    "# if-elif-else\n",
    "age = 90\n",
    "if age < 8 :\n",
    "    price = 0\n",
    "elif age < 18 :\n",
    "    price = 0.5 * age\n",
    "elif age < 60 :\n",
    "    price = 10\n",
    "else :\n",
    "    price = 5\n",
    "print('The ticket cost $' + str(price) + \".\")"
   ]
  },
  {
   "cell_type": "code",
   "execution_count": 20,
   "metadata": {},
   "outputs": [
    {
     "name": "stdout",
     "output_type": "stream",
     "text": [
      "Adding milk tea.\n",
      "Adding pearls.\n",
      "Enjoy~\n"
     ]
    }
   ],
   "source": [
    "# multiple if\n",
    "cost = 6.5\n",
    "if cost > 5 :\n",
    "    print('Adding milk tea.')\n",
    "if cost > 6 :\n",
    "    print('Adding pearls.')\n",
    "if cost > 7 :\n",
    "    print('Adding pudding.')\n",
    "print('Enjoy~')"
   ]
  },
  {
   "cell_type": "code",
   "execution_count": 17,
   "metadata": {},
   "outputs": [
    {
     "name": "stdout",
     "output_type": "stream",
     "text": [
      "Not bad~\n"
     ]
    }
   ],
   "source": [
    "# nested if\n",
    "isTall = False\n",
    "isWealthy = True\n",
    "isHandsom = True\n",
    "if isHandsom :\n",
    "    if isTall :\n",
    "        if isWealthy :\n",
    "            print('Ahhhhh!')\n",
    "        else :\n",
    "            print('Ayyy~')\n",
    "    else :\n",
    "        print('Not bad~')\n",
    "else :\n",
    "    print('Good for ya.')"
   ]
  },
  {
   "cell_type": "code",
   "execution_count": 23,
   "metadata": {},
   "outputs": [
    {
     "name": "stdout",
     "output_type": "stream",
     "text": [
      "Would you like a plain milk tea?\n",
      "Enjoy~\n"
     ]
    }
   ],
   "source": [
    "# if with lists\n",
    "toppings = ['pearls', 'red bean', 'pudding', 'grass jelly']\n",
    "requested = ['pearls', 'grass jelly']\n",
    "if requested : # checking that requested is not empty\n",
    "    for topping in requested :\n",
    "        if topping == 'grass jelly' :\n",
    "            print('Sorry, we ran out of grass jelly...')\n",
    "        else :\n",
    "            print('Adding ' + topping + '.')\n",
    "else :\n",
    "    print('Would you like a plain milk tea?')\n",
    "print('Enjoy~')"
   ]
  },
  {
   "cell_type": "code",
   "execution_count": 25,
   "metadata": {},
   "outputs": [
    {
     "name": "stdout",
     "output_type": "stream",
     "text": [
      "List empty!\n"
     ]
    }
   ],
   "source": [
    "# check list emptiness\n",
    "name_of_list = []\n",
    "if name_of_list :\n",
    "    for item in name_of_list :\n",
    "        print(item)\n",
    "else :\n",
    "    print('List empty!')"
   ]
  }
 ],
 "metadata": {
  "kernelspec": {
   "display_name": "Python 3",
   "language": "python",
   "name": "python3"
  },
  "language_info": {
   "codemirror_mode": {
    "name": "ipython",
    "version": 3
   },
   "file_extension": ".py",
   "mimetype": "text/x-python",
   "name": "python",
   "nbconvert_exporter": "python",
   "pygments_lexer": "ipython3",
   "version": "3.7.3"
  }
 },
 "nbformat": 4,
 "nbformat_minor": 2
}
