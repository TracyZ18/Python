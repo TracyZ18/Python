{
 "cells": [
  {
   "cell_type": "code",
   "execution_count": 1,
   "metadata": {},
   "outputs": [],
   "source": [
    "# constructor : def __init__(self, p1, p2, ...)\n",
    "# functions : def funct(self, p1, p2, ...)"
   ]
  },
  {
   "cell_type": "code",
   "execution_count": 2,
   "metadata": {},
   "outputs": [],
   "source": [
    "class BubbleTea() :\n",
    "    \n",
    "    def __init__(self, flavor, pearl) :\n",
    "        self.flavor = flavor\n",
    "        self.pearl = pearl\n",
    "        \n",
    "    def make(self) : \n",
    "        make = 'Making a ' + self.flavor + ' bubble tea '\n",
    "        if self.pearl :\n",
    "            make += 'with pearls.'\n",
    "        else :\n",
    "            make += 'without pearls.'\n",
    "        print(make)"
   ]
  },
  {
   "cell_type": "code",
   "execution_count": 3,
   "metadata": {},
   "outputs": [
    {
     "name": "stdout",
     "output_type": "stream",
     "text": [
      "Making a honeydew bubble tea without pearls.\n"
     ]
    }
   ],
   "source": [
    "# making an instance\n",
    "tea = BubbleTea('honeydew', False)\n",
    "tea.make()"
   ]
  },
  {
   "cell_type": "code",
   "execution_count": 4,
   "metadata": {},
   "outputs": [
    {
     "name": "stdout",
     "output_type": "stream",
     "text": [
      "Pearl: True\n",
      "Making a honeydew bubble tea with pearls.\n"
     ]
    }
   ],
   "source": [
    "# modify attributes\n",
    "tea.pearl = True\n",
    "print('Pearl: ' + str(tea.pearl))\n",
    "tea.make()"
   ]
  },
  {
   "cell_type": "code",
   "execution_count": 6,
   "metadata": {},
   "outputs": [
    {
     "name": "stdout",
     "output_type": "stream",
     "text": [
      "Making a coffee bubble tea without pearls.\n",
      "Adding pudding...\n",
      "Adding red beans...\n"
     ]
    }
   ],
   "source": [
    "# inheritance\n",
    "class SpecialBubbleTea(BubbleTea) :\n",
    "    def __init__(self, flavor, pearl, pudding, red_bean) :\n",
    "        super().__init__(flavor, pearl)\n",
    "        self.pudding = pudding\n",
    "        self.red_bean = red_bean\n",
    "    def make(self):\n",
    "        super().make()\n",
    "        if self.pudding :\n",
    "            print(\"Adding pudding...\")\n",
    "        if self.red_bean :\n",
    "            print(\"Adding red beans...\")\n",
    "\n",
    "special_tea = SpecialBubbleTea(\"coffee\", False, True, True)\n",
    "special_tea.make()"
   ]
  },
  {
   "cell_type": "code",
   "execution_count": null,
   "metadata": {},
   "outputs": [],
   "source": [
    "# attributes can be instances of other classes"
   ]
  },
  {
   "cell_type": "code",
   "execution_count": null,
   "metadata": {},
   "outputs": [],
   "source": [
    "# importing\n",
    "'''\n",
    "bubble_tea.py\n",
    "--------------\n",
    "class BubbleTea()\n",
    "class SpecialBubbleTea()\n",
    "'''\n",
    "\n",
    "'''\n",
    "tea_shop.py\n",
    "------------\n",
    "from bubble_tea import *\n",
    "\n",
    "tea = BubbleTea('mint', False)\n",
    "special_tea = SpecialBubbleTea=('taro', False, False, True)\n",
    "'''\n",
    "\n",
    "'''\n",
    "small_shop.py\n",
    "--------------\n",
    "from bubble_tea import BubbleTea\n",
    "\n",
    "tea = BubbleTea('honey', True)\n",
    "tea.make()\n",
    "'''"
   ]
  }
 ],
 "metadata": {
  "kernelspec": {
   "display_name": "Python 3",
   "language": "python",
   "name": "python3"
  },
  "language_info": {
   "codemirror_mode": {
    "name": "ipython",
    "version": 3
   },
   "file_extension": ".py",
   "mimetype": "text/x-python",
   "name": "python",
   "nbconvert_exporter": "python",
   "pygments_lexer": "ipython3",
   "version": "3.7.3"
  }
 },
 "nbformat": 4,
 "nbformat_minor": 2
}
