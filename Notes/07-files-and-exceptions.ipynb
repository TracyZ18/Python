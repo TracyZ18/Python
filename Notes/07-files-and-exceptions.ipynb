{
 "cells": [
  {
   "cell_type": "code",
   "execution_count": 1,
   "metadata": {},
   "outputs": [
    {
     "name": "stdout",
     "output_type": "stream",
     "text": [
      "3.1415926535\n",
      "  8979323846\n",
      "  2643383279\n",
      "\n"
     ]
    }
   ],
   "source": [
    "# reading an entire file\n",
    "# \"content\" is a string\n",
    "with open('07-files-and-exceptions.txt') as file_object:\n",
    "    contents = file_object.read()\n",
    "    print(contents)"
   ]
  },
  {
   "cell_type": "code",
   "execution_count": 2,
   "metadata": {},
   "outputs": [
    {
     "name": "stdout",
     "output_type": "stream",
     "text": [
      "['Lorem', 'ipsum', 'dolor', 'sit', 'amet,', 'consectetur', 'adipiscing', 'elit,', 'sed', 'do', 'eiusmod', 'tempor', 'incididunt', 'ut', 'labore', 'et', 'dolore', 'magna', 'aliqua.', 'Ut', 'enim', 'ad', 'minim', 'veniam,', 'quis', 'nostrud', 'exercitation', 'ullamco', 'laboris', 'nisi', 'ut', 'aliquip', 'ex', 'ea', 'commodo', 'consequat.', 'Duis', 'aute', 'irure', 'dolor', 'in', 'reprehenderit', 'in', 'voluptate', 'velit', 'esse', 'cillum', 'dolore', 'eu', 'fugiat', 'nulla', 'pariatur.', 'Excepteur', 'sint', 'occaecat', 'cupidatat', 'non', 'proident,', 'sunt', 'in', 'culpa', 'qui', 'officia', 'deserunt', 'mollit', 'anim', 'id', 'est', 'laborum.']\n",
      "69\n"
     ]
    }
   ],
   "source": [
    "# word count\n",
    "with open('07-files-and-exceptions-WORDS.txt') as file_object:\n",
    "    contents = file_object.read()\n",
    "    words = contents.split()\n",
    "    print(words)\n",
    "    print(len(words))"
   ]
  },
  {
   "cell_type": "code",
   "execution_count": 3,
   "metadata": {},
   "outputs": [
    {
     "name": "stdout",
     "output_type": "stream",
     "text": [
      "3.1415926535\n",
      "  8979323846\n",
      "  2643383279\n"
     ]
    }
   ],
   "source": [
    "# .rstrip() : remove '\\n' at the end\n",
    "with open('07-files-and-exceptions.txt') as file_object:\n",
    "    contents = file_object.read()\n",
    "    print(contents.rstrip())"
   ]
  },
  {
   "cell_type": "code",
   "execution_count": 4,
   "metadata": {},
   "outputs": [
    {
     "name": "stdout",
     "output_type": "stream",
     "text": [
      "3.1415926535\n",
      "  8979323846\n",
      "  2643383279\n"
     ]
    }
   ],
   "source": [
    "# read line by line\n",
    "filename = '07-files-and-exceptions.txt'\n",
    "with open(filename) as file_object:\n",
    "    for line in file_object:\n",
    "        # .rstrip() to remove '\\n' at end of line\n",
    "        print(line.rstrip()) "
   ]
  },
  {
   "cell_type": "code",
   "execution_count": 5,
   "metadata": {},
   "outputs": [
    {
     "name": "stdout",
     "output_type": "stream",
     "text": [
      "3.1415926535  8979323846  2643383279\n"
     ]
    }
   ],
   "source": [
    "# work with file content\n",
    "pi = ''\n",
    "with open(filename) as file_object:\n",
    "    for line in file_object:\n",
    "        pi += line.rstrip()\n",
    "print(pi)"
   ]
  },
  {
   "cell_type": "code",
   "execution_count": 6,
   "metadata": {},
   "outputs": [],
   "source": [
    "# use int(), float() for numerical value"
   ]
  },
  {
   "cell_type": "code",
   "execution_count": 7,
   "metadata": {},
   "outputs": [
    {
     "name": "stdout",
     "output_type": "stream",
     "text": [
      "Input you birthday (mmdd) : 3874\n",
      "Nope...\n"
     ]
    }
   ],
   "source": [
    "# search a string\n",
    "birthday = input(\"Input you birthday (mmdd) : \")\n",
    "if birthday in pi :\n",
    "    print(\"Yep, in pi!\")\n",
    "else :\n",
    "    print(\"Nope...\")"
   ]
  },
  {
   "cell_type": "code",
   "execution_count": 8,
   "metadata": {},
   "outputs": [],
   "source": [
    "# writing to empty file\n",
    "# modes : r,w,a\n",
    "filename = '07-files-and-exceptions-WRITE.txt'\n",
    "with open(filename, 'w') as file_object:\n",
    "    file_object.write(\"Hey ya!\")"
   ]
  },
  {
   "cell_type": "code",
   "execution_count": 9,
   "metadata": {},
   "outputs": [],
   "source": [
    "# writing multiple lines\n",
    "ugrad = {\n",
    "    'name' : 'Random Name',\n",
    "    'id' : 10346294,\n",
    "    'courses' : 'MATH 141, COMP 251',\n",
    "    'college' : 'Trinity'\n",
    "}\n",
    "with open(filename, 'w') as file_object:\n",
    "    for key,value in ugrad.items():\n",
    "        file_object.write(str(key) + ': ' + str(value) + '\\n')"
   ]
  },
  {
   "cell_type": "code",
   "execution_count": 10,
   "metadata": {},
   "outputs": [],
   "source": [
    "# append to file \n",
    "# mode : 'a'"
   ]
  },
  {
   "cell_type": "code",
   "execution_count": 12,
   "metadata": {},
   "outputs": [
    {
     "name": "stdout",
     "output_type": "stream",
     "text": [
      "You can't divide by zero!\n"
     ]
    }
   ],
   "source": [
    "# try except block\n",
    "try:\n",
    "    print(5/0)\n",
    "except ZeroDivisionError:\n",
    "    print(\"You can't divide by zero!\")"
   ]
  },
  {
   "cell_type": "code",
   "execution_count": 13,
   "metadata": {},
   "outputs": [
    {
     "name": "stdout",
     "output_type": "stream",
     "text": [
      "5\n"
     ]
    }
   ],
   "source": [
    "# else block\n",
    "# only happens if succeed\n",
    "try:\n",
    "    x=5/1\n",
    "except ZeroDivisionError:\n",
    "    print(\"You can't divide by zero!\")\n",
    "else:\n",
    "    print(int(x))"
   ]
  },
  {
   "cell_type": "code",
   "execution_count": 14,
   "metadata": {},
   "outputs": [
    {
     "data": {
      "text/plain": [
       "'\\nZeroDivisionError\\nFileNotFoundError\\n'"
      ]
     },
     "execution_count": 14,
     "metadata": {},
     "output_type": "execute_result"
    }
   ],
   "source": [
    "'''\n",
    "ZeroDivisionError\n",
    "FileNotFoundError\n",
    "'''"
   ]
  },
  {
   "cell_type": "code",
   "execution_count": 17,
   "metadata": {},
   "outputs": [],
   "source": [
    "# JSON data format\n",
    "# json.dump()\n",
    "import json\n",
    "\n",
    "numbers = [2, 3, 5, 7, 11, 13]\n",
    "filename = '07-files-and-exceptions-JSON.json'\n",
    "with open(filename, 'w') as f_obj:\n",
    "    json.dump(numbers, f_obj)"
   ]
  },
  {
   "cell_type": "code",
   "execution_count": 18,
   "metadata": {},
   "outputs": [
    {
     "name": "stdout",
     "output_type": "stream",
     "text": [
      "[2, 3, 5, 7, 11, 13]\n"
     ]
    }
   ],
   "source": [
    "# json.load()\n",
    "with open(filename) as f_obj:\n",
    "    nums = json.load(f_obj)\n",
    "print(nums)"
   ]
  },
  {
   "cell_type": "code",
   "execution_count": 22,
   "metadata": {},
   "outputs": [
    {
     "name": "stdout",
     "output_type": "stream",
     "text": [
      "What is your name? Bryan\n",
      "We'll remember you when you come back, Bryan!\n",
      "-----------------\n",
      "Welcome back, Bryan!\n"
     ]
    }
   ],
   "source": [
    "# saving and reading user data\n",
    "username = input(\"What is your name? \")\n",
    "\n",
    "with open(filename, 'w') as f_obj:\n",
    "    json.dump(username, f_obj)\n",
    "    print(\"We'll remember you when you come back, \" + username + \"!\")\n",
    "\n",
    "print('-----------------')\n",
    "    \n",
    "with open(filename) as f_obj:\n",
    "    username = json.load(f_obj)\n",
    "    print(\"Welcome back, \" + username + \"!\")"
   ]
  }
 ],
 "metadata": {
  "kernelspec": {
   "display_name": "Python 3",
   "language": "python",
   "name": "python3"
  },
  "language_info": {
   "codemirror_mode": {
    "name": "ipython",
    "version": 3
   },
   "file_extension": ".py",
   "mimetype": "text/x-python",
   "name": "python",
   "nbconvert_exporter": "python",
   "pygments_lexer": "ipython3",
   "version": "3.7.3"
  }
 },
 "nbformat": 4,
 "nbformat_minor": 2
}
