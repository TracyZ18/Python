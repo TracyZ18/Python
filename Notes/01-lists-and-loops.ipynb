{
 "cells": [
  {
   "cell_type": "code",
   "execution_count": 1,
   "metadata": {},
   "outputs": [],
   "source": [
    "# lists on \"The Python Tutorial\"\n",
    "# https://docs.python.org/3/tutorial/datastructures.html"
   ]
  },
  {
   "cell_type": "code",
   "execution_count": 2,
   "metadata": {},
   "outputs": [
    {
     "name": "stdout",
     "output_type": "stream",
     "text": [
      "Jeanne\n",
      "Tracy\n"
     ]
    }
   ],
   "source": [
    "# make a list using []\n",
    "names = ['Tracy','Emma','Peter','Jeanne']\n",
    "# support neg. indices up to -length\n",
    "print(names[-1])\n",
    "print(names[-4]) #cannot go past the first element"
   ]
  },
  {
   "cell_type": "code",
   "execution_count": 3,
   "metadata": {},
   "outputs": [
    {
     "name": "stdout",
     "output_type": "stream",
     "text": [
      "['Tracy', 'Emma', 'Peter', 'Jeanne', 'Pikachu']\n"
     ]
    }
   ],
   "source": [
    "# .append(x) : append x to list\n",
    "names.append(\"Pikachu\")\n",
    "print(names)"
   ]
  },
  {
   "cell_type": "code",
   "execution_count": 4,
   "metadata": {},
   "outputs": [
    {
     "name": "stdout",
     "output_type": "stream",
     "text": [
      "['Tracy', 'Psyduck', 'Emma', 'Peter', 'Jeanne', 'Pikachu']\n"
     ]
    }
   ],
   "source": [
    "# .insert(i, x) : insert x at index i\n",
    "names.insert(1,'Psyduck')\n",
    "print(names)"
   ]
  },
  {
   "cell_type": "code",
   "execution_count": 5,
   "metadata": {},
   "outputs": [
    {
     "name": "stdout",
     "output_type": "stream",
     "text": [
      "['Tracy', 'Psyduck', 'Emma', 'Jeanne', 'Pikachu']\n"
     ]
    }
   ],
   "source": [
    "# del list[i] : delete element at index i\n",
    "del names[3]\n",
    "print(names)"
   ]
  },
  {
   "cell_type": "code",
   "execution_count": 6,
   "metadata": {},
   "outputs": [
    {
     "name": "stdout",
     "output_type": "stream",
     "text": [
      "['Tracy', 'Psyduck', 'Emma', 'Jeanne']\n",
      "The popped item is Pikachu.\n"
     ]
    }
   ],
   "source": [
    "# .pop() : pop last element, return it\n",
    "popped = names.pop()\n",
    "print(names)\n",
    "print(\"The popped item is \" + popped + \".\")"
   ]
  },
  {
   "cell_type": "code",
   "execution_count": 7,
   "metadata": {},
   "outputs": [
    {
     "name": "stdout",
     "output_type": "stream",
     "text": [
      "['Psyduck', 'Emma', 'Jeanne']\n",
      "The popped item is Tracy.\n"
     ]
    }
   ],
   "source": [
    "# .pop(i) : pop element at index i, return it\n",
    "popped = names.pop(0)\n",
    "print(names)\n",
    "print(\"The popped item is \" + popped + \".\")"
   ]
  },
  {
   "cell_type": "code",
   "execution_count": 8,
   "metadata": {},
   "outputs": [
    {
     "name": "stdout",
     "output_type": "stream",
     "text": [
      "Removing Psyduck...\n",
      "['Emma', 'Jeanne']\n"
     ]
    }
   ],
   "source": [
    "# .remove(x) : remove first occurence of x\n",
    "names.remove('Psyduck')\n",
    "print(\"Removing Psyduck...\")\n",
    "print(names)"
   ]
  },
  {
   "cell_type": "code",
   "execution_count": 9,
   "metadata": {},
   "outputs": [
    {
     "name": "stdout",
     "output_type": "stream",
     "text": [
      "0\n",
      "0\n",
      "0\n"
     ]
    }
   ],
   "source": [
    "# .index(x[, start[, end]]) : find index of x\n",
    "print(names.index('Emma'))\n",
    "print(names.index('Emma',0))\n",
    "print(names.index('Emma',0,1))"
   ]
  },
  {
   "cell_type": "code",
   "execution_count": 10,
   "metadata": {},
   "outputs": [
    {
     "name": "stdout",
     "output_type": "stream",
     "text": [
      "0\n"
     ]
    }
   ],
   "source": [
    "# .count(x) : count number of appearence of x\n",
    "print(names.count('Psyduck'))"
   ]
  },
  {
   "cell_type": "code",
   "execution_count": 11,
   "metadata": {},
   "outputs": [
    {
     "name": "stdout",
     "output_type": "stream",
     "text": [
      "['Emma', 'Jeanne', 'Peter', 'Pikachu', 'Psyduck', 'Tracy']\n"
     ]
    }
   ],
   "source": [
    "# .sort() : sort list\n",
    "names = ['Tracy','Emma','Peter','Jeanne','Pikachu','Psyduck']\n",
    "names.sort()\n",
    "print(names)"
   ]
  },
  {
   "cell_type": "code",
   "execution_count": 12,
   "metadata": {},
   "outputs": [
    {
     "name": "stdout",
     "output_type": "stream",
     "text": [
      "['Tracy', 'Psyduck', 'Pikachu', 'Peter', 'Jeanne', 'Emma']\n"
     ]
    }
   ],
   "source": [
    "# .sort(reverse=True) : sort list reversely\n",
    "names.sort(reverse=True)\n",
    "print(names)"
   ]
  },
  {
   "cell_type": "code",
   "execution_count": 13,
   "metadata": {},
   "outputs": [
    {
     "name": "stdout",
     "output_type": "stream",
     "text": [
      "Original list: \n",
      "['Tracy', 'Emma', 'Peter', 'Jeanne', 'Pikachu', 'Psyduck']\n",
      "\n",
      "Sorted list: \n",
      "['Emma', 'Jeanne', 'Peter', 'Pikachu', 'Psyduck', 'Tracy']\n",
      "\n",
      "Original list again: \n",
      "['Tracy', 'Emma', 'Peter', 'Jeanne', 'Pikachu', 'Psyduck']\n"
     ]
    }
   ],
   "source": [
    "# sorted(list) : sort list temporarily\n",
    "names = ['Tracy','Emma','Peter','Jeanne','Pikachu','Psyduck']\n",
    "print(\"Original list: \")\n",
    "print(names)\n",
    "print(\"\\nSorted list: \")\n",
    "print(sorted(names))\n",
    "print(\"\\nOriginal list again: \")\n",
    "print(names)"
   ]
  },
  {
   "cell_type": "code",
   "execution_count": 14,
   "metadata": {},
   "outputs": [
    {
     "name": "stdout",
     "output_type": "stream",
     "text": [
      "['Psyduck', 'Pikachu', 'Jeanne', 'Peter', 'Emma', 'Tracy']\n"
     ]
    }
   ],
   "source": [
    "# .revserse() : reverse the list (NOT reversely sort)\n",
    "names.reverse()\n",
    "print(names)"
   ]
  },
  {
   "cell_type": "code",
   "execution_count": 15,
   "metadata": {},
   "outputs": [
    {
     "name": "stdout",
     "output_type": "stream",
     "text": [
      "6\n"
     ]
    }
   ],
   "source": [
    "# .len() : length of list\n",
    "print(len(names))"
   ]
  },
  {
   "cell_type": "code",
   "execution_count": 16,
   "metadata": {},
   "outputs": [
    {
     "name": "stdout",
     "output_type": "stream",
     "text": [
      "['Psyduck', 'Pikachu', 'Jeanne', 'Peter', 'Emma', 'Tracy', 'Luke', 'Link', 'Zelda']\n"
     ]
    }
   ],
   "source": [
    "# .extend(iterable) : append all items of a iterable\n",
    "other_names = ['Luke','Link','Zelda']\n",
    "names.extend(other_names)\n",
    "print(names)"
   ]
  },
  {
   "cell_type": "code",
   "execution_count": 17,
   "metadata": {},
   "outputs": [
    {
     "name": "stdout",
     "output_type": "stream",
     "text": [
      "['Psyduck', 'Pikachu', 'Jeanne', 'Peter', 'Emma', 'Tracy', 'Luke', 'Link', 'Zelda']\n"
     ]
    }
   ],
   "source": [
    "# .copy() : return shallow copy, equiv. to a[:]\n",
    "other_names = names.copy()\n",
    "print(other_names)"
   ]
  },
  {
   "cell_type": "code",
   "execution_count": 18,
   "metadata": {},
   "outputs": [
    {
     "name": "stdout",
     "output_type": "stream",
     "text": [
      "[]\n"
     ]
    }
   ],
   "source": [
    "# .clear() : clear list, equiv. to del a[:]\n",
    "other_names.clear()\n",
    "print(other_names)"
   ]
  },
  {
   "cell_type": "code",
   "execution_count": 19,
   "metadata": {},
   "outputs": [],
   "source": [
    "twelve_day = [\n",
    "    'a partridge in a pear tree',\n",
    "    '2 turtle doves',\n",
    "    '3 French hens',\n",
    "    '4 calling birds',\n",
    "    '5 gold rings',\n",
    "    '6 geese a-laying',\n",
    "    '7 swans a-swimming',\n",
    "    '8 maids a-milking',\n",
    "    '9 ladies dancing',\n",
    "    '10 lords a-leaping',\n",
    "    '11 pipers piping',\n",
    "    '12 drummers drumming ',\n",
    "]\n",
    "days = [\n",
    "    'first',\n",
    "    'second',\n",
    "    'third',\n",
    "    'fourth',\n",
    "    'fifth',\n",
    "    'sixth',\n",
    "    'seventh',\n",
    "    'eighth',\n",
    "    'nineth',\n",
    "    'tenth',\n",
    "    'eleventh',\n",
    "    'twelveth'\n",
    "]"
   ]
  },
  {
   "cell_type": "code",
   "execution_count": 20,
   "metadata": {
    "collapsed": true
   },
   "outputs": [
    {
     "name": "stdout",
     "output_type": "stream",
     "text": [
      "First:\n",
      "\ta partridge in a pear tree\n",
      "Second:\n",
      "\ta partridge in a pear tree\n",
      "\t2 turtle doves\n",
      "Third:\n",
      "\ta partridge in a pear tree\n",
      "\t2 turtle doves\n",
      "\t3 French hens\n",
      "Fourth:\n",
      "\ta partridge in a pear tree\n",
      "\t2 turtle doves\n",
      "\t3 French hens\n",
      "\t4 calling birds\n",
      "Fifth:\n",
      "\ta partridge in a pear tree\n",
      "\t2 turtle doves\n",
      "\t3 French hens\n",
      "\t4 calling birds\n",
      "\t5 gold rings\n",
      "Sixth:\n",
      "\ta partridge in a pear tree\n",
      "\t2 turtle doves\n",
      "\t3 French hens\n",
      "\t4 calling birds\n",
      "\t5 gold rings\n",
      "\t6 geese a-laying\n",
      "Seventh:\n",
      "\ta partridge in a pear tree\n",
      "\t2 turtle doves\n",
      "\t3 French hens\n",
      "\t4 calling birds\n",
      "\t5 gold rings\n",
      "\t6 geese a-laying\n",
      "\t7 swans a-swimming\n",
      "Eighth:\n",
      "\ta partridge in a pear tree\n",
      "\t2 turtle doves\n",
      "\t3 French hens\n",
      "\t4 calling birds\n",
      "\t5 gold rings\n",
      "\t6 geese a-laying\n",
      "\t7 swans a-swimming\n",
      "\t8 maids a-milking\n",
      "Nineth:\n",
      "\ta partridge in a pear tree\n",
      "\t2 turtle doves\n",
      "\t3 French hens\n",
      "\t4 calling birds\n",
      "\t5 gold rings\n",
      "\t6 geese a-laying\n",
      "\t7 swans a-swimming\n",
      "\t8 maids a-milking\n",
      "\t9 ladies dancing\n",
      "Tenth:\n",
      "\ta partridge in a pear tree\n",
      "\t2 turtle doves\n",
      "\t3 French hens\n",
      "\t4 calling birds\n",
      "\t5 gold rings\n",
      "\t6 geese a-laying\n",
      "\t7 swans a-swimming\n",
      "\t8 maids a-milking\n",
      "\t9 ladies dancing\n",
      "\t10 lords a-leaping\n",
      "Eleventh:\n",
      "\ta partridge in a pear tree\n",
      "\t2 turtle doves\n",
      "\t3 French hens\n",
      "\t4 calling birds\n",
      "\t5 gold rings\n",
      "\t6 geese a-laying\n",
      "\t7 swans a-swimming\n",
      "\t8 maids a-milking\n",
      "\t9 ladies dancing\n",
      "\t10 lords a-leaping\n",
      "\t11 pipers piping\n",
      "Twelveth:\n",
      "\ta partridge in a pear tree\n",
      "\t2 turtle doves\n",
      "\t3 French hens\n",
      "\t4 calling birds\n",
      "\t5 gold rings\n",
      "\t6 geese a-laying\n",
      "\t7 swans a-swimming\n",
      "\t8 maids a-milking\n",
      "\t9 ladies dancing\n",
      "\t10 lords a-leaping\n",
      "\t11 pipers piping\n",
      "\t12 drummers drumming \n"
     ]
    }
   ],
   "source": [
    "# for-each loop\n",
    "for day in days :\n",
    "    print(day.title() + \":\")\n",
    "    for gift in twelve_day :\n",
    "        if twelve_day.index(gift) <= days.index(day) :\n",
    "            print('\\t' + gift)"
   ]
  },
  {
   "cell_type": "code",
   "execution_count": 21,
   "metadata": {
    "collapsed": true
   },
   "outputs": [
    {
     "name": "stdout",
     "output_type": "stream",
     "text": [
      "First:\n",
      "\ta partridge in a pear tree\n",
      "Second:\n",
      "\t2 turtle doves\n",
      "\ta partridge in a pear tree\n",
      "Third:\n",
      "\t3 French hens\n",
      "\t2 turtle doves\n",
      "\ta partridge in a pear tree\n",
      "Fourth:\n",
      "\t4 calling birds\n",
      "\t3 French hens\n",
      "\t2 turtle doves\n",
      "\ta partridge in a pear tree\n",
      "Fifth:\n",
      "\t5 gold rings\n",
      "\t4 calling birds\n",
      "\t3 French hens\n",
      "\t2 turtle doves\n",
      "\ta partridge in a pear tree\n",
      "Sixth:\n",
      "\t6 geese a-laying\n",
      "\t5 gold rings\n",
      "\t4 calling birds\n",
      "\t3 French hens\n",
      "\t2 turtle doves\n",
      "\ta partridge in a pear tree\n",
      "Seventh:\n",
      "\t7 swans a-swimming\n",
      "\t6 geese a-laying\n",
      "\t5 gold rings\n",
      "\t4 calling birds\n",
      "\t3 French hens\n",
      "\t2 turtle doves\n",
      "\ta partridge in a pear tree\n",
      "Eighth:\n",
      "\t8 maids a-milking\n",
      "\t7 swans a-swimming\n",
      "\t6 geese a-laying\n",
      "\t5 gold rings\n",
      "\t4 calling birds\n",
      "\t3 French hens\n",
      "\t2 turtle doves\n",
      "\ta partridge in a pear tree\n",
      "Nineth:\n",
      "\t9 ladies dancing\n",
      "\t8 maids a-milking\n",
      "\t7 swans a-swimming\n",
      "\t6 geese a-laying\n",
      "\t5 gold rings\n",
      "\t4 calling birds\n",
      "\t3 French hens\n",
      "\t2 turtle doves\n",
      "\ta partridge in a pear tree\n",
      "Tenth:\n",
      "\t10 lords a-leaping\n",
      "\t9 ladies dancing\n",
      "\t8 maids a-milking\n",
      "\t7 swans a-swimming\n",
      "\t6 geese a-laying\n",
      "\t5 gold rings\n",
      "\t4 calling birds\n",
      "\t3 French hens\n",
      "\t2 turtle doves\n",
      "\ta partridge in a pear tree\n",
      "Eleventh:\n",
      "\t11 pipers piping\n",
      "\t10 lords a-leaping\n",
      "\t9 ladies dancing\n",
      "\t8 maids a-milking\n",
      "\t7 swans a-swimming\n",
      "\t6 geese a-laying\n",
      "\t5 gold rings\n",
      "\t4 calling birds\n",
      "\t3 French hens\n",
      "\t2 turtle doves\n",
      "\ta partridge in a pear tree\n",
      "Twelveth:\n",
      "\t12 drummers drumming \n",
      "\t11 pipers piping\n",
      "\t10 lords a-leaping\n",
      "\t9 ladies dancing\n",
      "\t8 maids a-milking\n",
      "\t7 swans a-swimming\n",
      "\t6 geese a-laying\n",
      "\t5 gold rings\n",
      "\t4 calling birds\n",
      "\t3 French hens\n",
      "\t2 turtle doves\n",
      "\ta partridge in a pear tree\n"
     ]
    },
    {
     "ename": "IndexError",
     "evalue": "list index out of range",
     "output_type": "error",
     "traceback": [
      "\u001b[1;31m--------------------------------------------------------------------------\u001b[0m",
      "\u001b[1;31mIndexError\u001b[0m                               Traceback (most recent call last)",
      "\u001b[1;32m<ipython-input-21-6a52da5ac7bc>\u001b[0m in \u001b[0;36m<module>\u001b[1;34m\u001b[0m\n\u001b[0;32m      1\u001b[0m \u001b[1;31m# for loop (with numerical lists)\u001b[0m\u001b[1;33m\u001b[0m\u001b[1;33m\u001b[0m\u001b[1;33m\u001b[0m\u001b[0m\n\u001b[0;32m      2\u001b[0m \u001b[1;32mfor\u001b[0m \u001b[0mday\u001b[0m \u001b[1;32min\u001b[0m \u001b[0mrange\u001b[0m\u001b[1;33m(\u001b[0m\u001b[1;36m13\u001b[0m\u001b[1;33m)\u001b[0m \u001b[1;33m:\u001b[0m\u001b[1;33m\u001b[0m\u001b[1;33m\u001b[0m\u001b[0m\n\u001b[1;32m----> 3\u001b[1;33m     \u001b[0mprint\u001b[0m\u001b[1;33m(\u001b[0m\u001b[0mdays\u001b[0m\u001b[1;33m[\u001b[0m\u001b[0mday\u001b[0m\u001b[1;33m]\u001b[0m\u001b[1;33m.\u001b[0m\u001b[0mtitle\u001b[0m\u001b[1;33m(\u001b[0m\u001b[1;33m)\u001b[0m \u001b[1;33m+\u001b[0m \u001b[1;34m':'\u001b[0m\u001b[1;33m)\u001b[0m\u001b[1;33m\u001b[0m\u001b[1;33m\u001b[0m\u001b[0m\n\u001b[0m\u001b[0;32m      4\u001b[0m     \u001b[1;32mfor\u001b[0m \u001b[0mgift\u001b[0m \u001b[1;32min\u001b[0m \u001b[0mrange\u001b[0m \u001b[1;33m(\u001b[0m\u001b[1;36m0\u001b[0m\u001b[1;33m,\u001b[0m \u001b[0mday\u001b[0m\u001b[1;33m+\u001b[0m\u001b[1;36m1\u001b[0m\u001b[1;33m)\u001b[0m \u001b[1;33m:\u001b[0m\u001b[1;33m\u001b[0m\u001b[1;33m\u001b[0m\u001b[0m\n\u001b[0;32m      5\u001b[0m         \u001b[0mprint\u001b[0m\u001b[1;33m(\u001b[0m\u001b[1;34m'\\t'\u001b[0m \u001b[1;33m+\u001b[0m \u001b[0mtwelve_day\u001b[0m\u001b[1;33m[\u001b[0m\u001b[0mday\u001b[0m \u001b[1;33m-\u001b[0m \u001b[0mgift\u001b[0m\u001b[1;33m]\u001b[0m\u001b[1;33m)\u001b[0m\u001b[1;33m\u001b[0m\u001b[1;33m\u001b[0m\u001b[0m\n",
      "\u001b[1;31mIndexError\u001b[0m: list index out of range"
     ]
    }
   ],
   "source": [
    "# for loop (with numerical lists)\n",
    "for day in range(12) :\n",
    "    print(days[day].title() + ':')\n",
    "    for gift in range (0, day+1) : \n",
    "        print('\\t' + twelve_day[day - gift])"
   ]
  },
  {
   "cell_type": "code",
   "execution_count": 25,
   "metadata": {},
   "outputs": [
    {
     "name": "stdout",
     "output_type": "stream",
     "text": [
      "[1, 4, 9, 16, 25, 36, 49, 64, 81, 100]\n"
     ]
    }
   ],
   "source": [
    "# list comprehension\n",
    "squares = [value**2 for value in range(1,11)]\n",
    "print(squares)"
   ]
  },
  {
   "cell_type": "code",
   "execution_count": 27,
   "metadata": {},
   "outputs": [
    {
     "name": "stdout",
     "output_type": "stream",
     "text": [
      "1\n"
     ]
    }
   ],
   "source": [
    "# min(list)\n",
    "print(min(squares))"
   ]
  },
  {
   "cell_type": "code",
   "execution_count": 28,
   "metadata": {},
   "outputs": [
    {
     "name": "stdout",
     "output_type": "stream",
     "text": [
      "100\n"
     ]
    }
   ],
   "source": [
    "# max(list)\n",
    "print(max(squares))"
   ]
  },
  {
   "cell_type": "code",
   "execution_count": 29,
   "metadata": {},
   "outputs": [
    {
     "name": "stdout",
     "output_type": "stream",
     "text": [
      "385\n"
     ]
    }
   ],
   "source": [
    "# sum(list)\n",
    "print(sum(squares))"
   ]
  },
  {
   "cell_type": "code",
   "execution_count": 41,
   "metadata": {},
   "outputs": [
    {
     "name": "stdout",
     "output_type": "stream",
     "text": [
      "[1, 2, 3, 4, 5, 6, 7, 8, 9, 10]\n",
      "[3, 4, 5]\n",
      "[3, 4, 5, 6, 7, 8, 9, 10]\n",
      "[1, 2, 3, 4, 5]\n",
      "[7, 8]\n",
      "[7, 8, 9, 10]\n",
      "[1, 2, 3, 4, 5, 6, 7, 8]\n"
     ]
    }
   ],
   "source": [
    "# list[a:b] : \"slice\", gives sublist from index a to b-1\n",
    "ints = [x for x in range(1,11)]\n",
    "print(ints)\n",
    "# pos indices\n",
    "print(ints[2:5])\n",
    "print(ints[2:])\n",
    "print(ints[:5])\n",
    "# neg indices\n",
    "print(ints[-4:-2])\n",
    "print(ints[-4:])\n",
    "print(ints[:-2])"
   ]
  },
  {
   "cell_type": "code",
   "execution_count": 48,
   "metadata": {},
   "outputs": [
    {
     "name": "stdout",
     "output_type": "stream",
     "text": [
      "[36, 49, 64, 81]\n"
     ]
    }
   ],
   "source": [
    "# using sublist in for-each loop\n",
    "some_squares = [i**2 for i in ints[-5:-1]]\n",
    "print(some_squares)"
   ]
  },
  {
   "cell_type": "code",
   "execution_count": 54,
   "metadata": {},
   "outputs": [
    {
     "name": "stdout",
     "output_type": "stream",
     "text": [
      "(1, -2, -2, 4)\n",
      "1\n"
     ]
    }
   ],
   "source": [
    "# tuple (a,b) : immutable\n",
    "x = (1,-2)\n",
    "y = (-2,4)\n",
    "print(x[0])\n",
    "print(x+y)"
   ]
  },
  {
   "cell_type": "code",
   "execution_count": 55,
   "metadata": {},
   "outputs": [
    {
     "name": "stdout",
     "output_type": "stream",
     "text": [
      "1\n",
      "-2\n",
      "-2\n",
      "4\n"
     ]
    }
   ],
   "source": [
    "for dimension in x+y :\n",
    "    print(dimension)"
   ]
  }
 ],
 "metadata": {
  "kernelspec": {
   "display_name": "Python 3.7.3 64-bit ('base': conda)",
   "language": "python",
   "name": "python37364bitbasecondafa240740884a443e9c90d8a2784c56ec"
  },
  "language_info": {
   "codemirror_mode": {
    "name": "ipython",
    "version": 3
   },
   "file_extension": ".py",
   "mimetype": "text/x-python",
   "name": "python",
   "nbconvert_exporter": "python",
   "pygments_lexer": "ipython3",
   "version": "3.7.3"
  }
 },
 "nbformat": 4,
 "nbformat_minor": 2
}
