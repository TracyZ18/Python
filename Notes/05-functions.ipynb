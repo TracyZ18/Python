{
 "cells": [
  {
   "cell_type": "code",
   "execution_count": 3,
   "metadata": {},
   "outputs": [],
   "source": [
    "# defining a function\n",
    "def hello() :\n",
    "    print('Hello, function!')"
   ]
  },
  {
   "cell_type": "code",
   "execution_count": 4,
   "metadata": {},
   "outputs": [
    {
     "name": "stdout",
     "output_type": "stream",
     "text": [
      "Hello, function!\n"
     ]
    }
   ],
   "source": [
    "# function call\n",
    "hello()"
   ]
  },
  {
   "cell_type": "code",
   "execution_count": 5,
   "metadata": {},
   "outputs": [
    {
     "name": "stdout",
     "output_type": "stream",
     "text": [
      "Hello, Tracy!\n"
     ]
    }
   ],
   "source": [
    "# input parameters\n",
    "def hello(name) :\n",
    "    print('Hello, ' + name.title() + '!')\n",
    "\n",
    "hello(\"Tracy\")"
   ]
  },
  {
   "cell_type": "code",
   "execution_count": 7,
   "metadata": {},
   "outputs": [
    {
     "name": "stdout",
     "output_type": "stream",
     "text": [
      "This is A: Tiger\n",
      "This is B: Lion\n",
      "\n",
      "This is A: Lion\n",
      "This is B: Tiger\n",
      "\n"
     ]
    }
   ],
   "source": [
    "# positional parameters, order matters\n",
    "def a_and_b(a, b) :\n",
    "    print(\"This is A: \" + a)\n",
    "    print(\"This is B: \" + b)\n",
    "    print()\n",
    "\n",
    "a_and_b(\"Tiger\", \"Lion\")\n",
    "a_and_b(\"Lion\", \"Tiger\")"
   ]
  },
  {
   "cell_type": "code",
   "execution_count": 8,
   "metadata": {},
   "outputs": [
    {
     "name": "stdout",
     "output_type": "stream",
     "text": [
      "This is A: Tiger\n",
      "This is B: Lion\n",
      "\n",
      "This is A: Tiger\n",
      "This is B: Lion\n",
      "\n"
     ]
    }
   ],
   "source": [
    "# keyword arguments, order doesn't matter\n",
    "a_and_b(a=\"Tiger\", b=\"Lion\")\n",
    "a_and_b(b=\"Lion\", a=\"Tiger\")"
   ]
  },
  {
   "cell_type": "code",
   "execution_count": 13,
   "metadata": {},
   "outputs": [
    {
     "name": "stdout",
     "output_type": "stream",
     "text": [
      "This is A: A\n",
      "This is B: B\n",
      "\n"
     ]
    }
   ],
   "source": [
    "# default values\n",
    "def a_and_b(a='A', b='B') :\n",
    "    print(\"This is A: \" + a)\n",
    "    print(\"This is B: \" + b)\n",
    "    print()\n",
    "\n",
    "a_and_b()"
   ]
  },
  {
   "cell_type": "code",
   "execution_count": 15,
   "metadata": {},
   "outputs": [],
   "source": [
    "def needs_inputs(A, B, C) :\n",
    "    print(\"Got 'em!\")"
   ]
  },
  {
   "cell_type": "code",
   "execution_count": 18,
   "metadata": {},
   "outputs": [
    {
     "name": "stdout",
     "output_type": "stream",
     "text": [
      "Too few inputs.\n",
      "Too many inputs.\n"
     ]
    }
   ],
   "source": [
    "# arguments errors (need right number)\n",
    "try :\n",
    "    needs_inputs()\n",
    "except TypeError :\n",
    "    print(\"Too few inputs.\")\n",
    "    \n",
    "try :\n",
    "    a_and_b(\"A\", \"B\", \"C\", \"D\", \"E\")\n",
    "except TypeError :\n",
    "    print(\"Too many inputs.\")"
   ]
  },
  {
   "cell_type": "code",
   "execution_count": 22,
   "metadata": {},
   "outputs": [
    {
     "name": "stdout",
     "output_type": "stream",
     "text": [
      "Yuan Li\n",
      "Yi Ming Li\n"
     ]
    }
   ],
   "source": [
    "# return values\n",
    "def full_name(family, first, middle=-1) :\n",
    "    if middle == -1 :\n",
    "        return first.title() + ' ' + family.title()\n",
    "    else :\n",
    "        return first.title() + ' ' + middle.title() + ' ' + family.title()\n",
    "\n",
    "x = full_name('Li', 'Yuan')\n",
    "print(x)\n",
    "y = full_name('Li', 'Yi', 'Ming')\n",
    "print(y)"
   ]
  },
  {
   "cell_type": "code",
   "execution_count": 24,
   "metadata": {},
   "outputs": [
    {
     "name": "stdout",
     "output_type": "stream",
     "text": [
      "('yellow', 'red', 'blue')\n",
      "yellow\n",
      "red\n",
      "blue\n"
     ]
    }
   ],
   "source": [
    "# arbituary number of arguments\n",
    "# *inputs : a tuple of inputs\n",
    "def paint(*colors) :\n",
    "    print(colors)\n",
    "    for color in colors :\n",
    "        print(color)\n",
    "paint('yellow', 'red', 'blue')"
   ]
  },
  {
   "cell_type": "code",
   "execution_count": 4,
   "metadata": {},
   "outputs": [
    {
     "name": "stdout",
     "output_type": "stream",
     "text": [
      "1 + 2 = \n",
      "3\n",
      "\n",
      "So many numbers!\n",
      "28\n"
     ]
    }
   ],
   "source": [
    "# mixing positional and arbituary arguments\n",
    "# positional first, then arbituary\n",
    "def sum(a, b, *nums) :\n",
    "    sum = a + b\n",
    "    if nums :\n",
    "        print(\"\\nSo many numbers!\")\n",
    "        for n in nums :\n",
    "            sum += n\n",
    "    else :\n",
    "        print(str(a) + ' + ' + str(b) + ' = ')\n",
    "    return sum\n",
    "print(sum(1,2))\n",
    "print(sum(1,2,3,4,5,6,7))"
   ]
  },
  {
   "cell_type": "code",
   "execution_count": 6,
   "metadata": {},
   "outputs": [
    {
     "name": "stdout",
     "output_type": "stream",
     "text": [
      "CS\n",
      "{'id': 203749, 'name': 'mike', 'major': 'CS'}\n"
     ]
    }
   ],
   "source": [
    "# arbituary keyword arguments\n",
    "# **inputs : dictionary\n",
    "def ugrad(id, **info) :\n",
    "    student = {}\n",
    "    student['id'] = id\n",
    "    # access <key,value> pairs in **info\n",
    "    for key,value in info.items() :\n",
    "        student[key] = value\n",
    "    return student\n",
    "\n",
    "mike = ugrad(203749, name=\"mike\", major=\"CS\")\n",
    "print(mike[\"major\"])\n",
    "print(mike)"
   ]
  },
  {
   "cell_type": "code",
   "execution_count": null,
   "metadata": {},
   "outputs": [],
   "source": [
    "# modules\n",
    "\n",
    "'''\n",
    "pizza.py\n",
    "------------------\n",
    "def add_toppings() :\n",
    "    print(\"Added!\")\n",
    "def make_pizza() :\n",
    "    print(\"Done!\")\n",
    "'''\n",
    "\n",
    "'''\n",
    "store.py\n",
    "------------\n",
    "import pizza\n",
    "\n",
    "pizza.add_toppings()\n",
    "pizza.make_pizza()\n",
    "'''\n",
    "\n",
    "'''\n",
    "emplpyee1.py\n",
    "-------------\n",
    "from pizza import add_toppings\n",
    "\n",
    "add_toppings()\n",
    "'''"
   ]
  },
  {
   "cell_type": "code",
   "execution_count": null,
   "metadata": {},
   "outputs": [],
   "source": [
    "# alias\n",
    "'''\n",
    "employee2.py\n",
    "-------------\n",
    "from pizza import make_pizza as mp\n",
    "\n",
    "mp()\n",
    "'''\n",
    "\n",
    "'''\n",
    "old_employee.py\n",
    "----------------\n",
    "import pizza as p\n",
    "\n",
    "p.make_pizza()\n",
    "'''"
   ]
  },
  {
   "cell_type": "code",
   "execution_count": null,
   "metadata": {},
   "outputs": [],
   "source": [
    "# importing all functions\n",
    "'''\n",
    "chef.py\n",
    "--------\n",
    "from pizza import *\n",
    "\n",
    "add_toppings()\n",
    "make_pizza()\n",
    "'''"
   ]
  }
 ],
 "metadata": {
  "kernelspec": {
   "display_name": "Python 3",
   "language": "python",
   "name": "python3"
  },
  "language_info": {
   "codemirror_mode": {
    "name": "ipython",
    "version": 3
   },
   "file_extension": ".py",
   "mimetype": "text/x-python",
   "name": "python",
   "nbconvert_exporter": "python",
   "pygments_lexer": "ipython3",
   "version": "3.7.3"
  }
 },
 "nbformat": 4,
 "nbformat_minor": 2
}
