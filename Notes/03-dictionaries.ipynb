{
 "cells": [
  {
   "cell_type": "code",
   "execution_count": 1,
   "metadata": {},
   "outputs": [
    {
     "name": "stdout",
     "output_type": "stream",
     "text": [
      "A banana costs $2.\n"
     ]
    }
   ],
   "source": [
    "# dictionary {'key 1' : 'value 1', 'key 2' : 'value 2'}\n",
    "fruits = {\n",
    "    'apple' : 3,\n",
    "    'banana' : 2,\n",
    "    'strawberry' : 5\n",
    "}\n",
    "print('A banana costs $' + str(fruits['banana']) + '.')"
   ]
  },
  {
   "cell_type": "code",
   "execution_count": 2,
   "metadata": {},
   "outputs": [
    {
     "name": "stdout",
     "output_type": "stream",
     "text": [
      "We have Royal who's a russian blue.\n"
     ]
    }
   ],
   "source": [
    "# key and value do not have fixed types\n",
    "house = {\n",
    "    'spare key' : 'beneath door mat',\n",
    "    'password' : 3422,\n",
    "    'pets' : {\n",
    "        'Bellie' : 'bulldog', \n",
    "        'Royal' : 'russian blue'\n",
    "    }\n",
    "}\n",
    "print(\"We have Royal who's a \" + house['pets']['Royal'] + '.')"
   ]
  },
  {
   "cell_type": "code",
   "execution_count": 3,
   "metadata": {},
   "outputs": [
    {
     "name": "stdout",
     "output_type": "stream",
     "text": [
      "Our new neibour is a grumpy grandma.\n"
     ]
    }
   ],
   "source": [
    "# adding/putting <key, value> pair \n",
    "house['neibour'] = 'grumpy grandma'\n",
    "print(\"Our new neibour is a \" + house['neibour'] + \".\")"
   ]
  },
  {
   "cell_type": "code",
   "execution_count": 4,
   "metadata": {},
   "outputs": [
    {
     "name": "stdout",
     "output_type": "stream",
     "text": [
      "New password is 8888.\n"
     ]
    }
   ],
   "source": [
    "# changing value of a key\n",
    "house['password'] = 8888\n",
    "print(\"New password is \" + str(house['password']) + '.')"
   ]
  },
  {
   "cell_type": "code",
   "execution_count": 5,
   "metadata": {},
   "outputs": [
    {
     "name": "stdout",
     "output_type": "stream",
     "text": [
      "I don't have any plants...\n"
     ]
    }
   ],
   "source": [
    "# checking if key exists\n",
    "# if 'aKey' in dict.keys() : \n",
    "if 'plants' in house.keys() :\n",
    "    print('I have some ' + house['plants'] + '.')\n",
    "else :\n",
    "    print(\"I don't have any plants...\")"
   ]
  },
  {
   "cell_type": "code",
   "execution_count": 6,
   "metadata": {},
   "outputs": [
    {
     "name": "stdout",
     "output_type": "stream",
     "text": [
      "Password removed!\n"
     ]
    }
   ],
   "source": [
    "# remove <key, value> pair\n",
    "del house['password']\n",
    "if not 'password' in house :\n",
    "    print(\"Password removed!\")"
   ]
  },
  {
   "cell_type": "code",
   "execution_count": 7,
   "metadata": {},
   "outputs": [
    {
     "name": "stdout",
     "output_type": "stream",
     "text": [
      "A apple costs $3.\n",
      "A banana costs $2.\n",
      "A strawberry costs $5.\n"
     ]
    }
   ],
   "source": [
    "# loop through entries\n",
    "# for key,value in dict.items()\n",
    "for fruit,cost in fruits.items() :\n",
    "    print('A ' + fruit + ' costs $' + str(cost) + '.')"
   ]
  },
  {
   "cell_type": "code",
   "execution_count": 8,
   "metadata": {},
   "outputs": [
    {
     "name": "stdout",
     "output_type": "stream",
     "text": [
      "Apple\n",
      "\tYou spent $3.\n",
      "Banana\n",
      "\tYou skipped this item.\n",
      "Strawberry\n",
      "\tYou spent $5.\n"
     ]
    }
   ],
   "source": [
    "# loop through keys\n",
    "# for key in dict.keys()\n",
    "wanted = ['apple', 'strawberry']\n",
    "for fruit in fruits.keys() :\n",
    "    print(fruit.title())\n",
    "    if fruit in wanted :\n",
    "        print('\\tYou spent $' + str(fruits[fruit]) + '.')\n",
    "    else :\n",
    "        print('\\tYou skipped this item.')"
   ]
  },
  {
   "cell_type": "code",
   "execution_count": 9,
   "metadata": {},
   "outputs": [
    {
     "name": "stdout",
     "output_type": "stream",
     "text": [
      "Our house have the following attributes: \n",
      "\tneibour\n",
      "\tpets\n",
      "\tspare key\n"
     ]
    }
   ],
   "source": [
    "# looping through keys in order\n",
    "print('Our house have the following attributes: ')\n",
    "for item in sorted(house.keys()) :\n",
    "    print('\\t' + str(item))"
   ]
  },
  {
   "cell_type": "code",
   "execution_count": 10,
   "metadata": {},
   "outputs": [
    {
     "name": "stdout",
     "output_type": "stream",
     "text": [
      "Random facts about our house: \n",
      "\tbeneath door mat\n",
      "\t{'Bellie': 'bulldog', 'Royal': 'russian blue'}\n",
      "\tgrumpy grandma\n"
     ]
    }
   ],
   "source": [
    "# looping through values\n",
    "print('Random facts about our house: ')\n",
    "for item in house.values():\n",
    "    print('\\t' + str(item))"
   ]
  },
  {
   "cell_type": "code",
   "execution_count": 12,
   "metadata": {},
   "outputs": [
    {
     "name": "stdout",
     "output_type": "stream",
     "text": [
      "The green alien is worth $5 points.\n",
      "The yellow alien is worth $10 points.\n",
      "The red alien is worth $15 points.\n"
     ]
    }
   ],
   "source": [
    "# list of dictionaries\n",
    "alien_0 = {'color': 'green', 'points': 5}\n",
    "alien_1 = {'color': 'yellow', 'points': 10}\n",
    "alien_2 = {'color': 'red', 'points': 15}\n",
    "\n",
    "aliens = [alien_0, alien_1, alien_2]\n",
    "for alien in aliens:\n",
    "    print('The ' + alien['color'] + ' alien is worth $' \n",
    "          + str(alien['points']) + ' points.' )"
   ]
  },
  {
   "cell_type": "code",
   "execution_count": 13,
   "metadata": {},
   "outputs": [
    {
     "name": "stdout",
     "output_type": "stream",
     "text": [
      "{'color': 'yellow', 'points': 10, 'speed': 'medium'}\n",
      "...\n",
      "{'color': 'yellow', 'points': 10, 'speed': 'medium'}\n",
      "...\n",
      "{'color': 'yellow', 'points': 10, 'speed': 'medium'}\n",
      "...\n",
      "{'color': 'green', 'points': 5, 'speed': 'slow'}\n",
      "...\n",
      "{'color': 'green', 'points': 5, 'speed': 'slow'}\n",
      "...\n"
     ]
    }
   ],
   "source": [
    "# modify dictionary in a list\n",
    "\n",
    "# Make an empty list for storing aliens.\n",
    "aliens = []\n",
    "# Make 30 green aliens.\n",
    "for alien_number in range (0,30):\n",
    "    new_alien = {'color': 'green', 'points': 5, 'speed': 'slow'}\n",
    "    aliens.append(new_alien)\n",
    "for alien in aliens[0:3]:\n",
    "    if alien['color'] == 'green':\n",
    "        alien['color'] = 'yellow'\n",
    "        alien['speed'] = 'medium'\n",
    "        alien['points'] = 10\n",
    "# Show the first 5 aliens:\n",
    "for alien in aliens[0:5]:\n",
    "    print(alien)\n",
    "    print(\"...\")"
   ]
  },
  {
   "cell_type": "code",
   "execution_count": 17,
   "metadata": {},
   "outputs": [
    {
     "name": "stdout",
     "output_type": "stream",
     "text": [
      "Thomas chose :\n",
      "- COMP 251\n",
      "- MATH 323\n",
      "- BIOL 200\n",
      "- COMP 424\n"
     ]
    }
   ],
   "source": [
    "# list in dictionary\n",
    "student = {\n",
    "    'name' : 'Thomas',\n",
    "    'courses' : ['COMP 251', 'MATH 323', 'BIOL 200', 'COMP 424']\n",
    "}\n",
    "print(student['name'] + ' chose :')\n",
    "for course in student['courses'] :\n",
    "    print('- ' + course)"
   ]
  },
  {
   "cell_type": "code",
   "execution_count": 24,
   "metadata": {},
   "outputs": [
    {
     "name": "stdout",
     "output_type": "stream",
     "text": [
      "Undergrad:\n",
      "- Semasters are ['fall', 'winter']\n",
      "- Services are ['career', 'health', 'food and hospitality']\n",
      "Grad:\n",
      "- Semasters are whole year\n",
      "- Services are ['research', 'health', 'family planning']\n"
     ]
    }
   ],
   "source": [
    "# nested dictionary\n",
    "university  = {\n",
    "    'undergrad' : {\n",
    "        'semasters' : ['fall','winter'],\n",
    "        'services' : ['career','health','food and hospitality']\n",
    "    },\n",
    "    'grad' : {\n",
    "        'semasters' : 'whole year',\n",
    "        'services' : ['research','health','family planning']\n",
    "    }\n",
    "} \n",
    "for student,info in university.items() :\n",
    "    print(student.title() + ':')\n",
    "    for key,value in info.items() :\n",
    "        print('- ' + key.title() + ' are ' + str(value))"
   ]
  }
 ],
 "metadata": {
  "kernelspec": {
   "display_name": "Python 3",
   "language": "python",
   "name": "python3"
  },
  "language_info": {
   "codemirror_mode": {
    "name": "ipython",
    "version": 3
   },
   "file_extension": ".py",
   "mimetype": "text/x-python",
   "name": "python",
   "nbconvert_exporter": "python",
   "pygments_lexer": "ipython3",
   "version": "3.7.3"
  }
 },
 "nbformat": 4,
 "nbformat_minor": 2
}
