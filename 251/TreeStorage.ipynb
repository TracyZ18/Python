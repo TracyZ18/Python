{
 "cells": [
  {
   "cell_type": "code",
   "execution_count": 1,
   "metadata": {},
   "outputs": [
    {
     "name": "stdout",
     "output_type": "stream",
     "text": [
      "\n",
      "          1\n",
      "         / \\\n",
      "  ______2   4\n",
      " /\n",
      "3__\n",
      "   \\\n",
      "    5\n",
      "   / \\\n",
      "  6   7\n",
      "\n"
     ]
    }
   ],
   "source": [
    "from binarytree import Node\n",
    "A = Node(1)\n",
    "B = Node(2)\n",
    "C = Node(3)\n",
    "D = Node(4)\n",
    "E = Node(5)\n",
    "F = Node(6)\n",
    "G = Node(7)\n",
    "root = A\n",
    "A.left = B\n",
    "A.right = D\n",
    "B.left = C\n",
    "C.right = E\n",
    "E.left = F\n",
    "E.right = G\n",
    "print(root)"
   ]
  },
  {
   "cell_type": "code",
   "execution_count": 2,
   "metadata": {},
   "outputs": [],
   "source": [
    "# String representation of the above tree\n",
    "arr = [[1,1],[1,0],[0,1],[1,1],[0,0],[0,0],[0,0]]"
   ]
  },
  {
   "cell_type": "code",
   "execution_count": 3,
   "metadata": {},
   "outputs": [
    {
     "ename": "SyntaxError",
     "evalue": "invalid syntax (<ipython-input-3-eaf083cb72bb>, line 1)",
     "output_type": "error",
     "traceback": [
      "\u001b[1;36m  File \u001b[1;32m\"<ipython-input-3-eaf083cb72bb>\"\u001b[1;36m, line \u001b[1;32m1\u001b[0m\n\u001b[1;33m    for\u001b[0m\n\u001b[1;37m        ^\u001b[0m\n\u001b[1;31mSyntaxError\u001b[0m\u001b[1;31m:\u001b[0m invalid syntax\n"
     ]
    }
   ],
   "source": [
    "head = Node(0)\n",
    "cur = head\n",
    "stack = []\n",
    "for node in arr: \n",
    "    cur.value = node[0]*10 + node[1]\n",
    "    if node[0] == 1: #[1,1] of [1,0]\n",
    "        cur.left = Node(0)\n",
    "        cur = cur.left\n",
    "        stack.append(node[1])\n",
    "    else if node[1] == 1: #[0,1]\n",
    "        cur.right = Node(0)\n",
    "        stack.append(0) # don't want to repeatedly make right child\n",
    "    else : # [0,0], leaf\n",
    "        while !stack.empty(): \n",
    "            cur = cur.parent\n",
    "            if \n",
    "            # hmmm, what about the right [0,0]?\n",
    "            # debug!"
   ]
  }
 ],
 "metadata": {
  "kernelspec": {
   "display_name": "Python 3",
   "language": "python",
   "name": "python3"
  },
  "language_info": {
   "codemirror_mode": {
    "name": "ipython",
    "version": 3
   },
   "file_extension": ".py",
   "mimetype": "text/x-python",
   "name": "python",
   "nbconvert_exporter": "python",
   "pygments_lexer": "ipython3",
   "version": "3.7.3"
  }
 },
 "nbformat": 4,
 "nbformat_minor": 2
}
